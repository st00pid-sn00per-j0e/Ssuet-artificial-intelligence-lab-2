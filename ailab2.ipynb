{
 "cells": [
  {
   "cell_type": "code",
   "execution_count": null,
   "id": "06c65d6d",
   "metadata": {},
   "outputs": [],
   "source": [
    "import pandas as pd\n",
    "\n",
    "print(\"Task 1: Load and Print Sheets\")\n",
    "file_path = 'your_file.xlsx'  # Replace with actual file path\n",
    "xls = pd.ExcelFile(file_path)\n",
    "\n",
    "# Print all sheet names\n",
    "print(\"Sheet Names:\", xls.sheet_names)\n",
    "\n",
    "# Load and print each sheet\n",
    "for sheet in xls.sheet_names:\n",
    "    sheet_data = pd.read_excel(xls, sheet_name=sheet)\n",
    "    print(f\"Data from sheet '{sheet}':\\n\", sheet_data)\n"
   ]
  },
  {
   "cell_type": "code",
   "execution_count": null,
   "id": "455c3556",
   "metadata": {},
   "outputs": [],
   "source": [
    "print(\"\\nTask 2: Generate Custom DataFrame\")\n",
    "data = {\n",
    "    'Math': [90, 80, 70, 60, 50],\n",
    "    'Science': [85, 75, 65, 55, 45],\n",
    "    'English': [88, 78, 68, 58, 48],\n",
    "    'History': [92, 82, 72, 62, 52]\n",
    "}\n",
    "index_values = ['Ali', 'Amir', 'Kamran', 'Sara', 'Ayesha']\n",
    "\n",
    "df_custom = pd.DataFrame(data, index=index_values)\n",
    "print(\"Generated DataFrame:\\n\", df_custom)\n"
   ]
  },
  {
   "cell_type": "code",
   "execution_count": null,
   "id": "b6868b4a",
   "metadata": {},
   "outputs": [],
   "source": [
    "print(\"\\nTask 3: Print First Two Columns\")\n",
    "df = pd.read_excel(file_path)  # Replace with actual file path\n",
    "print(\"First Two Columns:\\n\", df.iloc[:, :2])\n"
   ]
  },
  {
   "cell_type": "code",
   "execution_count": null,
   "id": "c74cb05a",
   "metadata": {},
   "outputs": [],
   "source": [
    "print(\"\\nTask 4: Skip First Two Rows\")\n",
    "df_skipped = pd.read_excel(file_path, skiprows=2)\n",
    "print(\"DataFrame after skipping the first two rows:\\n\", df_skipped)\n"
   ]
  },
  {
   "cell_type": "code",
   "execution_count": null,
   "id": "4e42fae7",
   "metadata": {},
   "outputs": [],
   "source": [
    "print(\"\\nTask 5: Fill Null Values in 'Gender' Column\")\n",
    "csv_file_path = 'employees.csv'  # Replace with actual file path\n",
    "df_csv = pd.read_csv(csv_file_path)\n",
    "\n",
    "# Fill null values in the \"Gender\" column\n",
    "df_csv['Gender'] = df_csv['Gender'].fillna('No Gender')\n",
    "\n",
    "# Print rows from 10 to 30 for visualization\n",
    "print(\"DataFrame (Rows 10 to 30):\\n\", df_csv.iloc[10:31])\n"
   ]
  },
  {
   "cell_type": "code",
   "execution_count": null,
   "id": "6c876d96",
   "metadata": {},
   "outputs": [],
   "source": [
    "print(\"\\nTask 6: Min-Max Normalization\")\n",
    "data = {'Age': [20, 30, 40, 50, 60], 'Salary': [2000, 3000, 4000, 5000, 6000]}\n",
    "df_normalization = pd.DataFrame(data)\n",
    "\n",
    "df_normalization['Age_Normalized'] = (df_normalization['Age'] - df_normalization['Age'].min()) / (df_normalization['Age'].max() - df_normalization['Age'].min())\n",
    "df_normalization['Salary_Normalized'] = (df_normalization['Salary'] - df_normalization['Salary'].min()) / (df_normalization['Salary'].max() - df_normalization['Salary'].min())\n",
    "print(\"Normalized DataFrame:\\n\", df_normalization)\n"
   ]
  },
  {
   "cell_type": "code",
   "execution_count": null,
   "id": "d4354650",
   "metadata": {},
   "outputs": [],
   "source": [
    "print(\"\\nTask 7: Standardization\")\n",
    "df_normalization['Age_Standardized'] = (df_normalization['Age'] - df_normalization['Age'].mean()) / df_normalization['Age'].std()\n",
    "df_normalization['Salary_Standardized'] = (df_normalization['Salary'] - df_normalization['Salary'].mean()) / df_normalization['Salary'].std()\n",
    "print(\"Standardized DataFrame:\\n\", df_normalization)\n"
   ]
  },
  {
   "cell_type": "code",
   "execution_count": null,
   "id": "68131337",
   "metadata": {},
   "outputs": [],
   "source": [
    "print(\"\\nTask 8: Backward Interpolation\")\n",
    "data = {\n",
    "    'First Score': [100, 90, None, 95],\n",
    "    'Second Score': [30, 45, 56, None],\n",
    "    'Third Score': [None, 40, 80, 98]\n",
    "}\n",
    "df_interpolation = pd.DataFrame(data)\n",
    "\n",
    "df_interpolated = df_interpolation.interpolate(method='bfill')\n",
    "print(\"DataFrame after backward interpolation:\\n\", df_interpolated)\n"
   ]
  }
 ],
 "metadata": {},
 "nbformat": 4,
 "nbformat_minor": 5
}